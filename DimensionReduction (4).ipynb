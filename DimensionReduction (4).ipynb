{
 "cells": [
  {
   "cell_type": "markdown",
   "metadata": {
    "button": false,
    "deletable": true,
    "run_control": {
     "read_only": false
    }
   },
   "source": [
    "Analysis Script: Dimension Reduction\n",
    "Developed by Konstantin Tskhay\n",
    "\n",
    "------------------------------------------\n",
    "\n",
    "# Dimension Reduction\n",
    "## Principal Component Analysis & Exploratory Factor Analysis\n",
    "\n",
    "### Steps:\n",
    "\n",
    "1. Import the data\n",
    "2. Load necessary packages\n",
    "3. Extract necessary data for PCA\n",
    "4. Set up all of the preconditions\n",
    "5. Run PCA/Visualizations\n",
    "6. Interpret the output\n",
    "7. Set up for EFA\n",
    "8. Run EFA/Visualizations\n",
    "9. Interpret the output\n",
    "10. Parallel Analysis (Horn, 1965)\n",
    "11. Mini-validation\n",
    "\n",
    "-----------------------------\n",
    "\n",
    "### *Note*. I would like to encourage you type your code--this practice ensures better retention. :)"
   ]
  },
  {
   "cell_type": "code",
   "execution_count": null,
   "metadata": {
    "button": false,
    "collapsed": false,
    "deletable": true,
    "run_control": {
     "read_only": false
    }
   },
   "outputs": [],
   "source": [
    "#Click in this cell and press Shift + Enter\n",
    "install.packages(\"psych\")\n",
    "install.packages(\"ggplot2\")"
   ]
  },
  {
   "cell_type": "markdown",
   "metadata": {
    "button": false,
    "collapsed": true,
    "deletable": true,
    "run_control": {
     "read_only": false
    }
   },
   "source": [
    "## Step 1: Import the data\n",
    "\n",
    "The data are in .csv format: 'new_prof_data.csv'\n",
    "\n",
    "Here is a brief description of the variables:\n",
    "\n",
    "\n",
    "1. **ID** = Observation ID\n",
    "2. **Prof.Name** = The name of the professor. Here, Name1 to Name213 are used\n",
    "3. **Present** = “Presents the material in an organized, well-planned manner.”\n",
    "4. **Explain** = “Explains concepts clearly and with appropriate use of examples.”\n",
    "5. **Communi** = “Communicates enthusiasm and interest in the course material.”\n",
    "6. **Teach** = “All things considered, performs effectively as a university teacher.”\n",
    "7. **Workload** = “Compared to other courses at the same level, the workload is…”\n",
    "8. **Difficulty** = “Compared to other courses at the same level, the level of difficulty of the material is…”\n",
    "9. **learn.Exp** = “The value of the overall learning experience is…”\n",
    "10. **Retake** = “Considering your experience with this course, and disregarding your need for it to meet program or degree requirements, would you still have taken this course?”\n",
    "11. **Inf.** = The aggregate influence score (Interpersonal Charisma Scale)\n",
    "12. **Kind** = The aggregate kindness score (Interpersonal Charisma Scale)\n",
    "\n",
    "\n",
    "**_Notes._**\n",
    "\n",
    "**Q3-Q6 scale**: 1 = extremely poor; 2 = very poor; 3 = poor; 4 = adequate; 5 = good; 6 = very good; 7 = outstanding\n",
    "\n",
    "**Q7-Q9 scale**: 1 = very low; 2 = low; 3 = below average; 4 = average; 5 = above average; 6 = high; 7 = very high\n",
    "\n",
    "**Q10 scale**: proportion of people out of 100 who would still take the course considering the experience\n",
    "\n",
    "**Q11-Q12 scale**: “I am someone who is…”; 1 = strongly disagree; 2 = moderately disagree; 3 = neither agree nor disagree; 4 = moderately agree; 5 = strongly agree\n",
    "\n"
   ]
  },
  {
   "cell_type": "markdown",
   "metadata": {
    "button": false,
    "deletable": true,
    "run_control": {
     "read_only": false
    }
   },
   "source": [
    "<br>"
   ]
  },
  {
   "cell_type": "markdown",
   "metadata": {
    "button": false,
    "deletable": true,
    "run_control": {
     "read_only": false
    }
   },
   "source": [
    "### Import data"
   ]
  },
  {
   "cell_type": "code",
   "execution_count": null,
   "metadata": {
    "button": false,
    "collapsed": false,
    "deletable": true,
    "run_control": {
     "read_only": false
    }
   },
   "outputs": [],
   "source": [
    "## Read the data into an object named data\n",
    "data <- read.csv('https://ibm.box.com/shared/static/t77i51hp8ighrg8mfh2q0gepwcwjfupo.csv') #new_prof_data.csv\n",
    "\n",
    "## Examine data:\n",
    "names(data)\n",
    "str(data)\n",
    "summary(data)\n",
    "head(data)\n"
   ]
  },
  {
   "cell_type": "markdown",
   "metadata": {
    "button": false,
    "deletable": true,
    "run_control": {
     "read_only": false
    }
   },
   "source": [
    "## Step 2: Load necessary packages\n",
    "\n",
    "This will allow you to use functions needed for factor analysis and principal component analysis\n",
    "\n",
    "if you don't have these packages on your machine use the following line:\n",
    "\n",
    "    install.packages('package_name')\n",
    "    \n",
    "Where, *package_name* is the name of the package you are interested in"
   ]
  },
  {
   "cell_type": "code",
   "execution_count": null,
   "metadata": {
    "button": false,
    "collapsed": false,
    "deletable": true,
    "run_control": {
     "read_only": false
    }
   },
   "outputs": [],
   "source": [
    "library(psych) ## for PCA and EFA \n",
    "library(ggplot2) ## for some Visuals"
   ]
  },
  {
   "cell_type": "markdown",
   "metadata": {
    "button": false,
    "collapsed": true,
    "deletable": true,
    "run_control": {
     "read_only": false
    }
   },
   "source": [
    "## Step 3: Extract necessary data for PCA\n",
    "\n",
    "This step is simple: select relevant columns.\n",
    "We want columns 3 through 8."
   ]
  },
  {
   "cell_type": "code",
   "execution_count": null,
   "metadata": {
    "button": false,
    "collapsed": false,
    "deletable": true,
    "run_control": {
     "read_only": false
    }
   },
   "outputs": [],
   "source": [
    "names(data) ## look up index\n",
    "comp.data <- data[,3:8] ## extract data\n",
    "names(comp.data) ## check"
   ]
  },
  {
   "cell_type": "markdown",
   "metadata": {
    "button": false,
    "deletable": true,
    "run_control": {
     "read_only": false
    }
   },
   "source": [
    "## Step 4: Set up all of the preconditions\n",
    "\n",
    "**Question**: Can we reduce the number of variables?\n",
    "**Answer**: Yes. Let's do it.\n",
    "\n",
    "  \n",
    "\n",
    "To do so, we need to see interrelationships between the variables.\n",
    "From before, we know that there may be 2 types of variables emerging.\n",
    "\n",
    "1. The variables that specify how good the professors are at communication\n",
    "2. The variables that track the course difficulty\n",
    "\n",
    "Let us examine whether this may be the case"
   ]
  },
  {
   "cell_type": "code",
   "execution_count": null,
   "metadata": {
    "button": false,
    "collapsed": false,
    "deletable": true,
    "run_control": {
     "read_only": false
    }
   },
   "outputs": [],
   "source": [
    "round(cor(comp.data), digits = 3) ## produces correlation matrix"
   ]
  },
  {
   "cell_type": "markdown",
   "metadata": {
    "button": false,
    "deletable": true,
    "run_control": {
     "read_only": false
    }
   },
   "source": [
    "You can see immediately that all communication variables are highly correlated. The difficulty variable correlates quite highly with the workload variable. However, there appears to be little overlap between communication and workload/difficulty variables.\n",
    "\n",
    "**This suggests that there are probably 2 components/factors in our data.**\n",
    "\n",
    "However, this example is simple because here we see a separation of the variables in the correlation matrix and know that the variables will probably split *a priori*. The data we work with in the real world are more complex, however.\n",
    "\n",
    "    e.g., 20, 100, 1000, 10000 variables\n",
    "    \n",
    "Now, imagine trying to identify how these variables form components or factors using correlation matrix or some type of hypothesis driven reasoning! It is practically impossible!\n",
    "\n",
    "----------------------------\n",
    "### Decision Rules:\n",
    "1. Probably 2 components (Communication, Workload)\n",
    "2. The components are probably orthogonal\n",
    "3. Check it empirically"
   ]
  },
  {
   "cell_type": "markdown",
   "metadata": {
    "button": false,
    "deletable": true,
    "run_control": {
     "read_only": false
    }
   },
   "source": [
    "## Step 5 & 6: Run PCA/Visualizations & Interpret the output"
   ]
  },
  {
   "cell_type": "code",
   "execution_count": null,
   "metadata": {
    "button": false,
    "collapsed": false,
    "deletable": true,
    "run_control": {
     "read_only": false
    }
   },
   "outputs": [],
   "source": [
    "pcaSolution <- prcomp(comp.data, center = TRUE, scale. = TRUE) \n",
    "\n",
    "## Produced the object with standard deviatons of all variables\n",
    "## and Rotation -- or the loadings on the principal components\n",
    "\n",
    "print(pcaSolution) ## prints PCA solution\n",
    "\n",
    "pcaSolution$sdev^2"
   ]
  },
  {
   "cell_type": "markdown",
   "metadata": {
    "button": false,
    "deletable": true,
    "run_control": {
     "read_only": false
    }
   },
   "source": [
    "### Let's create the Scree plot: Variance explained versus components"
   ]
  },
  {
   "cell_type": "code",
   "execution_count": null,
   "metadata": {
    "button": false,
    "collapsed": false,
    "deletable": true,
    "run_control": {
     "read_only": false
    }
   },
   "outputs": [],
   "source": [
    "plot(pcaSolution, type = \"l\", pch = 16, lwd = 2) ## generates a scree plot"
   ]
  },
  {
   "cell_type": "markdown",
   "metadata": {
    "button": false,
    "deletable": true,
    "run_control": {
     "read_only": false
    }
   },
   "source": [
    "This figure will help us to decide how many components we should extract.\n",
    "The first two PC explain most of the variability in the data--so, probably 2 components to extract.\n",
    "\n",
    "Let's see how important each component is in a different way: Take a look of proportion of variance explained (second line in the output table below)"
   ]
  },
  {
   "cell_type": "code",
   "execution_count": null,
   "metadata": {
    "button": false,
    "collapsed": false,
    "deletable": true,
    "run_control": {
     "read_only": false
    }
   },
   "outputs": [],
   "source": [
    "summary(pcaSolution)\n"
   ]
  },
  {
   "cell_type": "code",
   "execution_count": null,
   "metadata": {
    "button": false,
    "collapsed": false,
    "deletable": true,
    "run_control": {
     "read_only": false
    }
   },
   "outputs": [],
   "source": [
    "0.5669 + 0.2829 ## proportion of matrix variance explained by the \n",
    "                ## first 2 components"
   ]
  },
  {
   "cell_type": "markdown",
   "metadata": {
    "button": false,
    "deletable": true,
    "run_control": {
     "read_only": false
    }
   },
   "source": [
    "### What items fall on each component?\n",
    "\n",
    "Well, we can take a look at that examining, pcaSolution's matrix:"
   ]
  },
  {
   "cell_type": "code",
   "execution_count": null,
   "metadata": {
    "button": false,
    "collapsed": false,
    "deletable": true,
    "run_control": {
     "read_only": false
    }
   },
   "outputs": [],
   "source": [
    "pcaSolution$rotation[,1:2] ## only looks at the first 2 components"
   ]
  },
  {
   "cell_type": "markdown",
   "metadata": {
    "button": false,
    "deletable": true,
    "run_control": {
     "read_only": false
    }
   },
   "source": [
    "**Everything is pretty much as expected!**\n",
    "\n",
    "**Let's create a visual of the components now:**"
   ]
  },
  {
   "cell_type": "code",
   "execution_count": null,
   "metadata": {
    "button": false,
    "collapsed": false,
    "deletable": true,
    "run_control": {
     "read_only": false
    }
   },
   "outputs": [],
   "source": [
    "theta <- seq(0,2*pi,length.out = 100)\n",
    "circle <- data.frame(x = cos(theta), y = sin(theta))\n",
    "p <- ggplot(circle, aes(x,y)) + geom_path()\n",
    "\n",
    "loadings <- data.frame(pcaSolution$rotation, .names = row.names(pcaSolution$rotation))\n",
    "p + geom_text(data=loadings, \n",
    "              mapping=aes(x = PC1, y = PC2, label = .names, colour = .names)) +\n",
    "        coord_fixed(ratio=1) +\n",
    "        labs(x = \"PC1\", y = \"PC2\") +\n",
    "        theme_bw()"
   ]
  },
  {
   "cell_type": "markdown",
   "metadata": {
    "button": false,
    "deletable": true,
    "run_control": {
     "read_only": false
    }
   },
   "source": [
    "This last step is not necessary, however it is a decent visualization. Basically shows that the 2 factors are orthogonal and that the communication variables tend to map onto the first component and that the difficulty variables tend to map on the second component. Naturally, when you have more variables, the circle will be more complex and less conducive to presentation or interpretation. "
   ]
  },
  {
   "cell_type": "markdown",
   "metadata": {
    "button": false,
    "deletable": true,
    "run_control": {
     "read_only": false
    }
   },
   "source": [
    "## Step 7: Set up for EFA\n",
    "\n",
    "Once again, you want to first extract the relevant data. Typically people will do either PCA or EFA, depending on their research question, which informs the selection of the technique. Factor analysis is used when you think that something bigger than the variables at hand causes those variables and interrelationships between those variables. In other words, you assume that your indicators, measured variables, are not measured perfectly. EFA is very common in survey research, including customer satistaction surveys and personality measurement. \n",
    "\n",
    "    e.g., suppose your respondents answer some questions about how \"outgoing\" they are and how \"sociable\" they are. We assume further that an underlying personality of Extraversion causes people to choose greater number if they are extraverted and lower numbers if they are introveted! That is, people who are extraverted are expected to say that they are more \"outgoing\" and \"sociable\" than people who are introverted. We say here, then that extraversion construct (factor) causes systematic variance in reponses to items, but also that the measures are not perfect indicators of extraversion. So what is important here, is the shared variance between the items. \n",
    "    \n",
    "### Factor analysis allows us to identify this latent construct\n",
    "\n",
    "Okay, now we will:\n",
    "\n",
    "**1. Extract the relevant data**\n",
    "\n"
   ]
  },
  {
   "cell_type": "code",
   "execution_count": null,
   "metadata": {
    "button": false,
    "collapsed": false,
    "deletable": true,
    "run_control": {
     "read_only": false
    }
   },
   "outputs": [],
   "source": [
    "## note that I am using exactly the same code as in PCA, \n",
    "## except that I am naming the object differently\n",
    "\n",
    "names(data) ## look up index\n",
    "factor.data <- data[,3:8] ## extract data\n",
    "names(factor.data) ## check"
   ]
  },
  {
   "cell_type": "markdown",
   "metadata": {
    "button": false,
    "deletable": true,
    "run_control": {
     "read_only": false
    }
   },
   "source": [
    "**2. Decide on the number of factors to extract**"
   ]
  },
  {
   "cell_type": "code",
   "execution_count": null,
   "metadata": {
    "button": false,
    "collapsed": false,
    "deletable": true,
    "run_control": {
     "read_only": false
    }
   },
   "outputs": [],
   "source": [
    "eigen.values <- eigen(cor(factor.data)) ## extract eigenvalues from cor()\n",
    "eigen.values ## note that eigenvalues are simply squared st.devs from before! "
   ]
  },
  {
   "cell_type": "markdown",
   "metadata": {
    "button": false,
    "deletable": true,
    "run_control": {
     "read_only": false
    }
   },
   "source": [
    "Create a new scree plot"
   ]
  },
  {
   "cell_type": "code",
   "execution_count": null,
   "metadata": {
    "button": false,
    "collapsed": false,
    "deletable": true,
    "run_control": {
     "read_only": false
    }
   },
   "outputs": [],
   "source": [
    "plot(eigen.values$values, type=\"l\", ylab = 'Unrotated Eigenvalues',\n",
    "    xlab = 'Components', lwd = 3)"
   ]
  },
  {
   "cell_type": "markdown",
   "metadata": {
    "button": false,
    "deletable": true,
    "run_control": {
     "read_only": false
    }
   },
   "source": [
    "Once again, we see that 2 factors explain most of the variance. \n",
    "\n",
    "Further, you also need to select the factors based on the eigen values themselves they should be greater than 1. Again, the solution is 2. "
   ]
  },
  {
   "cell_type": "code",
   "execution_count": null,
   "metadata": {
    "button": false,
    "collapsed": false,
    "deletable": true,
    "run_control": {
     "read_only": false
    }
   },
   "outputs": [],
   "source": [
    "eigen.values$values/(sum(eigen.values$values)) ## compute proportion of \n",
    "                                               ##total variance\n",
    "\n",
    "## How much variance due to the first 2 factors?\n",
    "sum((eigen.values$values/(sum(eigen.values$values)))[c(1, 2)])"
   ]
  },
  {
   "cell_type": "markdown",
   "metadata": {
    "button": false,
    "deletable": true,
    "run_control": {
     "read_only": false
    }
   },
   "source": [
    "Okay, we meet the three major standards (see parallel analysis later for an alternative result). "
   ]
  },
  {
   "cell_type": "markdown",
   "metadata": {
    "button": false,
    "deletable": true,
    "run_control": {
     "read_only": false
    }
   },
   "source": [
    "**3. What kind of rotation to use?**\n",
    "\n",
    "Here, we do not truly need to be exactly data driven. All previous work has demonstrated that orthogonal rotation would be preferable. \n",
    "\n",
    "Use: **Varimax** to increase the distance between factors. \n",
    "\n",
    "** 4. What would you want as a factoring method?**\n",
    "\n",
    "Here, we will use principal axis factoring [most commonly used method in psychology research]. \n",
    "\n",
    "This says to place factor communalities in the diagonal, which would estimate the residual variation, stating that the factors do not explain all of the variance. In PCA, the 1s are retained across the diagonal. \n",
    "\n",
    "### Let's Recap the Pre-processing steps & Decisions:\n",
    "\n",
    "1. Data extracted\n",
    "2. Number of factors k = 2\n",
    "3. Rotation: Orthogonal rotation\n",
    "4. Factoring method: Principal Axis Factoring (PA)\n",
    "\n",
    "Let's do it!"
   ]
  },
  {
   "cell_type": "markdown",
   "metadata": {
    "button": false,
    "deletable": true,
    "run_control": {
     "read_only": false
    }
   },
   "source": [
    "## Step 8 & 9: Run EFA/Visualizations & Interpret the output\n",
    "\n",
    "**Get the correlation matrix**"
   ]
  },
  {
   "cell_type": "code",
   "execution_count": null,
   "metadata": {
    "button": false,
    "collapsed": false,
    "deletable": true,
    "run_control": {
     "read_only": false
    }
   },
   "outputs": [],
   "source": [
    "corMat <- round(cor(factor.data), digits = 3)\n",
    "corMat"
   ]
  },
  {
   "cell_type": "markdown",
   "metadata": {
    "button": false,
    "deletable": true,
    "run_control": {
     "read_only": false
    }
   },
   "source": [
    "**Run exploratory factor analysis**"
   ]
  },
  {
   "cell_type": "code",
   "execution_count": null,
   "metadata": {
    "button": false,
    "collapsed": false,
    "deletable": true,
    "run_control": {
     "read_only": false
    }
   },
   "outputs": [],
   "source": [
    "efaSolution <- fa(r = corMat, nfactors = 2, rotate = \"varimax\", fm = 'pa')\n",
    "efaSolution"
   ]
  },
  {
   "cell_type": "code",
   "execution_count": null,
   "metadata": {
    "button": false,
    "collapsed": false,
    "deletable": true,
    "run_control": {
     "read_only": false
    }
   },
   "outputs": [],
   "source": [
    "pchisq(.39, 4, ncp = 0, lower.tail = FALSE, log.p = FALSE)"
   ]
  },
  {
   "cell_type": "markdown",
   "metadata": {
    "button": false,
    "deletable": true,
    "run_control": {
     "read_only": false
    }
   },
   "source": [
    "The model fit appears to be sufficient. Both factor eigen values are above 1. The loadings on each factor are quite high (>.70 threshold) and the proportion of variance explained == 77%. This is a pretty decent solution. \n",
    "\n",
    "Let's do a quick graph for it! "
   ]
  },
  {
   "cell_type": "code",
   "execution_count": null,
   "metadata": {
    "button": false,
    "collapsed": false,
    "deletable": true,
    "run_control": {
     "read_only": false
    }
   },
   "outputs": [],
   "source": [
    "fa.diagram(efaSolution)"
   ]
  },
  {
   "cell_type": "markdown",
   "metadata": {
    "button": false,
    "deletable": true,
    "run_control": {
     "read_only": false
    }
   },
   "source": [
    "This is not the best graph and it should not be presented in publication, but it is a good representation of what we did.\n",
    "\n",
    "Factor 1 causes variables Explain, Teach, Present, and Communi\n",
    "\n",
    "Factor 2 causes variables Workload, Difficulty\n",
    "\n",
    "Name your factors. "
   ]
  },
  {
   "cell_type": "markdown",
   "metadata": {
    "button": false,
    "deletable": true,
    "run_control": {
     "read_only": false
    }
   },
   "source": [
    "## Step 10: Parallel Analysis\n",
    "\n",
    "This analysis is said to be the most robust analysis for identifying the number of factors. However, it is rarely used. It is rather simple:\n",
    "\n",
    "1. You will create multiple random datasets with same *n* observations and *k* factors\n",
    "2. Compute a correlation matrix for each dataset and extract eigenvalues\n",
    "3. If random eigenvalues are larger than those in the PCA or EFA, you know that the values are likely to be simply noise. \n",
    "4. So, you want your eigen values to be larger than those simulated randomly.\n",
    "\n",
    "Typically 100 simulations is recommended, but more is better. You don't want to overload your machine with computations, however. Here is how to do it."
   ]
  },
  {
   "cell_type": "code",
   "execution_count": null,
   "metadata": {
    "button": false,
    "collapsed": false,
    "deletable": true,
    "run_control": {
     "read_only": false
    }
   },
   "outputs": [],
   "source": [
    "fa.parallel(factor.data, n.iter = 100)"
   ]
  },
  {
   "cell_type": "markdown",
   "metadata": {
    "button": false,
    "deletable": true,
    "run_control": {
     "read_only": false
    }
   },
   "source": [
    "A new scree is produced. The red lines represent simulated and resampled data. Blue lines are the actual data. \n",
    "\n",
    "As you can see, the line with x-points shows that 2 components should be extracted. -- this line is compared to the top red line and only 2 points exceed the red line--hence, 2 PCs to extract\n",
    "\n",
    "When it comes to FA, there appears a need for a third component--yet, I am skeptical. The third triangle on the blue line pretty much overlaps with the red line. The distances are much larger in the other cases. \n",
    "\n",
    "** Okay, let's run some FA with 3 factors **"
   ]
  },
  {
   "cell_type": "code",
   "execution_count": null,
   "metadata": {
    "button": false,
    "collapsed": false,
    "deletable": true,
    "run_control": {
     "read_only": false
    }
   },
   "outputs": [],
   "source": [
    "efaSolution2 <- fa(r = corMat, nfactors = 3, rotate = \"varimax\", fm = 'pa')\n",
    "efaSolution2"
   ]
  },
  {
   "cell_type": "markdown",
   "metadata": {
    "button": false,
    "deletable": true,
    "run_control": {
     "read_only": false
    }
   },
   "source": [
    "**Output:**\n",
    "\n",
    "Examinig this output we notice high cross loadings of item Present between PA1 and PA3. Next, the PA3's SS loadings are .81, which does not exceed our threshold = 1. \n",
    "\n",
    "Finally, there is little information about the model fit, because it is a saturated model. \n",
    "\n",
    "In sum, I typically would not advise for retaining the last factor in the current model. "
   ]
  },
  {
   "cell_type": "markdown",
   "metadata": {
    "button": false,
    "deletable": true,
    "run_control": {
     "read_only": false
    }
   },
   "source": [
    "## Step 11: Mini-Validation\n",
    "\n",
    "Here, you want to basically generate factor or component scores with your variables and start building models. I will simply aggregate the variables defined by each component/factor. Then perform linear regression (lm) to see how well my components might predict other variables. \n",
    "\n",
    "Create means for Component/factor 1: course communication -- CC\n",
    "Create means for Component/factor 2: course difficulty -- CD\n",
    "\n",
    "add them to dataset"
   ]
  },
  {
   "cell_type": "code",
   "execution_count": null,
   "metadata": {
    "button": false,
    "collapsed": false,
    "deletable": true,
    "run_control": {
     "read_only": false
    }
   },
   "outputs": [],
   "source": [
    "data$CC <- rowMeans(data[, 3:6])\n",
    "data$CD <- rowMeans(data[, 7:8])"
   ]
  },
  {
   "cell_type": "markdown",
   "metadata": {
    "button": false,
    "deletable": true,
    "run_control": {
     "read_only": false
    }
   },
   "source": [
    "1. Fit the model examining students' learning experience from communication and difficulty\n",
    "2. Fit the model examining students' retake rate (knowing the course and the professor, would they want to take it again)"
   ]
  },
  {
   "cell_type": "code",
   "execution_count": null,
   "metadata": {
    "button": false,
    "collapsed": false,
    "deletable": true,
    "run_control": {
     "read_only": false
    }
   },
   "outputs": [],
   "source": [
    "fit1 <- lm(learn.Exp ~ CC + CD, data = data); summary(fit1)\n",
    "fit2 <- lm(Retake ~ CC + CD, data = data); summary(fit2)"
   ]
  },
  {
   "cell_type": "markdown",
   "metadata": {
    "button": false,
    "deletable": true,
    "run_control": {
     "read_only": false
    }
   },
   "source": [
    "**Output:**\n",
    "\n",
    "Both are predictors and explain quite a bit of variance;\n",
    "\n",
    "However, though all students appear to like professors who are better at communication...\n",
    "\n",
    "They tend to think taht difficulty produced better learning experience, yet would not take the course again. \n",
    "\n",
    "Naturally, in more complicated datasets, you can run more complex models. "
   ]
  },
  {
   "cell_type": "markdown",
   "metadata": {
    "button": false,
    "deletable": true,
    "run_control": {
     "read_only": false
    }
   },
   "source": [
    "<h1, align=\"center\"> FIN </h1>\n",
    "\n",
    "\n",
    "## RESOURCES:\n",
    "\n",
    "\n",
    "### Useful Links:\n",
    "\n",
    "- **Data Science** http://bigdatauniversity.com\n",
    "- **Clustering** http://bigdatauniversity.com/bdu-wp/bdu-course/machine-learning-cluster-analysis/\n",
    "- **PCA & CFA** http://bit.ly/1OozM3N\n",
    "\n",
    "- **R-Code** http://www.statmethods.net/advstats/factor.html\n",
    "- **Visualize** http://www.r-bloggers.com/computing-and-visualizing-pca-in-r/\n",
    "\n",
    "### Books:\n",
    "\n",
    "- **Factor Analysis** http://www.amazon.ca/Factor-Analysis-Richard-L-Gorsuch/dp/1138831999/ref=sr_1_2?ie=UTF8&qid=1444011728&sr=8-2&keywords=factor+analysis\n",
    "- **Principal Component Analysis** http://www.amazon.ca/Principal-Components-Analysis-George-Dunteman/dp/0803931042/ref=sr_1_2?ie=UTF8&qid=1444011812&sr=8-2&keywords=principal+component+analysis\n",
    "\n",
    "### Uses in Measurement:\n",
    "\n",
    "- http://scholarship.sha.cornell.edu/cgi/viewcontent.cgi?article=1618&context=articles\n",
    "- http://personal.stevens.edu/~ysakamot/719/week4/scaledevelopment.pdf\n",
    "- http://scholarship.sha.cornell.edu/cgi/viewcontent.cgi?article=1515&context=articles"
   ]
  }
 ],
 "metadata": {
  "kernelspec": {
   "display_name": "R",
   "language": "",
   "name": "ir"
  },
  "language_info": {
   "codemirror_mode": "r",
   "file_extension": ".r",
   "mimetype": "text/x-r-source",
   "name": "R",
   "pygments_lexer": "r"
  }
 },
 "nbformat": 4,
 "nbformat_minor": 0
}
